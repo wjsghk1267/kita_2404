{
 "cells": [
  {
   "cell_type": "code",
   "execution_count": null,
   "metadata": {
    "colab": {
     "base_uri": "https://localhost:8080/"
    },
    "executionInfo": {
     "elapsed": 29197,
     "status": "ok",
     "timestamp": 1724632716650,
     "user": {
      "displayName": "김홍준",
      "userId": "01118584956690988204"
     },
     "user_tz": -540
    },
    "id": "TfhWwad6HcUo",
    "outputId": "37d0903a-b518-42b2-ffe3-ca8f38e4dc84"
   },
   "outputs": [
    {
     "name": "stdout",
     "output_type": "stream",
     "text": [
      "\u001b[2K     \u001b[90m━━━━━━━━━━━━━━━━━━━━━━━━━━━━━━━━━━━━━━━━\u001b[0m \u001b[32m50.4/50.4 kB\u001b[0m \u001b[31m1.1 MB/s\u001b[0m eta \u001b[36m0:00:00\u001b[0m\n",
      "\u001b[2K   \u001b[90m━━━━━━━━━━━━━━━━━━━━━━━━━━━━━━━━━━━━━━━━\u001b[0m \u001b[32m1.1/1.1 MB\u001b[0m \u001b[31m15.7 MB/s\u001b[0m eta \u001b[36m0:00:00\u001b[0m\n",
      "\u001b[2K   \u001b[90m━━━━━━━━━━━━━━━━━━━━━━━━━━━━━━━━━━━━━━━━\u001b[0m \u001b[32m207.8/207.8 kB\u001b[0m \u001b[31m13.4 MB/s\u001b[0m eta \u001b[36m0:00:00\u001b[0m\n",
      "\u001b[2K   \u001b[90m━━━━━━━━━━━━━━━━━━━━━━━━━━━━━━━━━━━━━━━━\u001b[0m \u001b[32m362.9/362.9 kB\u001b[0m \u001b[31m17.8 MB/s\u001b[0m eta \u001b[36m0:00:00\u001b[0m\n",
      "\u001b[2K   \u001b[90m━━━━━━━━━━━━━━━━━━━━━━━━━━━━━━━━━━━━━━━━\u001b[0m \u001b[32m16.8/16.8 MB\u001b[0m \u001b[31m59.9 MB/s\u001b[0m eta \u001b[36m0:00:00\u001b[0m\n",
      "\u001b[2K   \u001b[90m━━━━━━━━━━━━━━━━━━━━━━━━━━━━━━━━━━━━━━━━\u001b[0m \u001b[32m318.7/318.7 kB\u001b[0m \u001b[31m17.4 MB/s\u001b[0m eta \u001b[36m0:00:00\u001b[0m\n",
      "\u001b[2K   \u001b[90m━━━━━━━━━━━━━━━━━━━━━━━━━━━━━━━━━━━━━━━━\u001b[0m \u001b[32m139.1/139.1 kB\u001b[0m \u001b[31m9.8 MB/s\u001b[0m eta \u001b[36m0:00:00\u001b[0m\n",
      "\u001b[2K   \u001b[90m━━━━━━━━━━━━━━━━━━━━━━━━━━━━━━━━━━━━━━━━\u001b[0m \u001b[32m3.1/3.1 MB\u001b[0m \u001b[31m56.3 MB/s\u001b[0m eta \u001b[36m0:00:00\u001b[0m\n",
      "\u001b[2K   \u001b[90m━━━━━━━━━━━━━━━━━━━━━━━━━━━━━━━━━━━━━━━━\u001b[0m \u001b[32m75.6/75.6 kB\u001b[0m \u001b[31m4.2 MB/s\u001b[0m eta \u001b[36m0:00:00\u001b[0m\n",
      "\u001b[2K   \u001b[90m━━━━━━━━━━━━━━━━━━━━━━━━━━━━━━━━━━━━━━━━\u001b[0m \u001b[32m77.9/77.9 kB\u001b[0m \u001b[31m4.9 MB/s\u001b[0m eta \u001b[36m0:00:00\u001b[0m\n",
      "\u001b[2K   \u001b[90m━━━━━━━━━━━━━━━━━━━━━━━━━━━━━━━━━━━━━━━━\u001b[0m \u001b[32m318.9/318.9 kB\u001b[0m \u001b[31m18.6 MB/s\u001b[0m eta \u001b[36m0:00:00\u001b[0m\n",
      "\u001b[2K   \u001b[90m━━━━━━━━━━━━━━━━━━━━━━━━━━━━━━━━━━━━━━━━\u001b[0m \u001b[32m141.9/141.9 kB\u001b[0m \u001b[31m8.6 MB/s\u001b[0m eta \u001b[36m0:00:00\u001b[0m\n",
      "\u001b[2K   \u001b[90m━━━━━━━━━━━━━━━━━━━━━━━━━━━━━━━━━━━━━━━━\u001b[0m \u001b[32m10.3/10.3 MB\u001b[0m \u001b[31m60.6 MB/s\u001b[0m eta \u001b[36m0:00:00\u001b[0m\n",
      "\u001b[2K   \u001b[90m━━━━━━━━━━━━━━━━━━━━━━━━━━━━━━━━━━━━━━━━\u001b[0m \u001b[32m62.8/62.8 kB\u001b[0m \u001b[31m3.5 MB/s\u001b[0m eta \u001b[36m0:00:00\u001b[0m\n",
      "\u001b[2K   \u001b[90m━━━━━━━━━━━━━━━━━━━━━━━━━━━━━━━━━━━━━━━━\u001b[0m \u001b[32m93.5/93.5 kB\u001b[0m \u001b[31m4.4 MB/s\u001b[0m eta \u001b[36m0:00:00\u001b[0m\n",
      "\u001b[2K   \u001b[90m━━━━━━━━━━━━━━━━━━━━━━━━━━━━━━━━━━━━━━━━\u001b[0m \u001b[32m12.5/12.5 MB\u001b[0m \u001b[31m59.3 MB/s\u001b[0m eta \u001b[36m0:00:00\u001b[0m\n",
      "\u001b[2K   \u001b[90m━━━━━━━━━━━━━━━━━━━━━━━━━━━━━━━━━━━━━━━━\u001b[0m \u001b[32m58.3/58.3 kB\u001b[0m \u001b[31m2.9 MB/s\u001b[0m eta \u001b[36m0:00:00\u001b[0m\n",
      "\u001b[2K   \u001b[90m━━━━━━━━━━━━━━━━━━━━━━━━━━━━━━━━━━━━━━━━\u001b[0m \u001b[32m82.7/82.7 kB\u001b[0m \u001b[31m5.0 MB/s\u001b[0m eta \u001b[36m0:00:00\u001b[0m\n",
      "\u001b[2K   \u001b[90m━━━━━━━━━━━━━━━━━━━━━━━━━━━━━━━━━━━━━━━━\u001b[0m \u001b[32m72.0/72.0 kB\u001b[0m \u001b[31m3.5 MB/s\u001b[0m eta \u001b[36m0:00:00\u001b[0m\n",
      "\u001b[2K   \u001b[90m━━━━━━━━━━━━━━━━━━━━━━━━━━━━━━━━━━━━━━━━\u001b[0m \u001b[32m130.2/130.2 kB\u001b[0m \u001b[31m7.4 MB/s\u001b[0m eta \u001b[36m0:00:00\u001b[0m\n",
      "\u001b[?25h"
     ]
    }
   ],
   "source": [
    "%pip install -q tiktoken cohere openai gradio"
   ]
  },
  {
   "cell_type": "code",
   "execution_count": null,
   "metadata": {
    "colab": {
     "base_uri": "https://localhost:8080/",
     "height": 35
    },
    "executionInfo": {
     "elapsed": 780,
     "status": "ok",
     "timestamp": 1724633275871,
     "user": {
      "displayName": "김홍준",
      "userId": "01118584956690988204"
     },
     "user_tz": -540
    },
    "id": "FRisu0olIJOy",
    "outputId": "433497bd-8994-4e1d-d58b-e6343c86af70"
   },
   "outputs": [
    {
     "data": {
      "application/vnd.google.colaboratory.intrinsic+json": {
       "type": "string"
      },
      "text/plain": [
       "'좋아요! 초급에서는 변수, 데이터 타입, 조건문, 반복문을 배워요. 먼저 변수에 대해 설명할게요.'"
      ]
     },
     "execution_count": 6,
     "metadata": {},
     "output_type": "execute_result"
    }
   ],
   "source": [
    "import gradio as gr\n",
    "from openai import OpenAI\n",
    "client = OpenAI(api_key=\"\")\n",
    "\n",
    "system_msg=\"\"\"코딩튜터는 고등학생 정보과목에서 알고리즘과 프로그래밍을 학생들이 실습할 수 있게 도와주는 튜터봇입니다.\n",
    "              - 튜터는 \"반가와요~ \"라고 인사말로 학습을 시작합니다.\n",
    "              - 학생이 선택한 섹션으로 학습을 시작하고 먼저 간단하게 섹션 학습내용 요약을 제공합니다.\n",
    "              - 각 섹션별 학습 항목에 대해서 하나씩 개념을 명확하고 친절하게 설명하고 연습문제를 추가로 제공해서 각 개념을 이해하여 활용할 수 있도록 연습 기회를 제공합니다.\n",
    "              - 학생의 답변에 대해서 \"잘했어요!\",\"조금 더 생각해봐요~\" 와 같은 긍정적인 피드백을 제공합니다.\n",
    "              - 대화는 간결하게 유지하며, 최대 100자 이내로 진행합니다.단 코드는 300자 이내로 작성합니다.\n",
    "              - 튜터는 학생들이 자기주도 학습을 할 수 있도록 개인화 된 학습을 제공하고 모든 질의 응답을 한국어로 진행합니다.\"\"\"\n",
    "\n",
    "response = client.chat.completions.create(\n",
    "  model=\"gpt-4o-mini-2024-07-18\",\n",
    "  messages = [\n",
    "        {\"role\": \"system\", \"content\": system_msg},\n",
    "        {\"role\": \"user\", \"content\": \"안녕하세요. 파이썬 학습을 시작해줘요\"},\n",
    "        {\"role\": \"assistant\", \"content\": \"반가워요~ 파이썬 프로그래밍을 학습해보도록 할게요.\"},\n",
    "        {\"role\": \"user\", \"content\": \"네\"},\n",
    "        {\"role\": \"assistant\", \"content\": \"파이썬을 학습할 수준을 확인하기 위해 '입문','초급','중급','고급' 중에 선택해주세요..\"},\n",
    "        {\"role\": \"user\", \"content\": \"초급\"},\n",
    "    ],\n",
    "\n",
    "  temperature=0.5,\n",
    "  max_tokens=300,\n",
    "  top_p=1,\n",
    ")\n",
    "\n",
    "response.choices[0].message.content"
   ]
  },
  {
   "cell_type": "markdown",
   "metadata": {
    "id": "x9ZLC-oXPpUm"
   },
   "source": [
    "messages = [{\"role\": \"system\", \"content\": system_msg}] + chat_history\n",
    "\n",
    "messages = [\n",
    "    {\"role\": \"system\", \"content\": system_msg},<br>\n",
    "    {\"role\": \"user\", \"content\": \"파이썬을 배우고 싶어요\"},<br>\n",
    "    {\"role\": \"assistant\", \"content\": \"반가워요! 파이썬 기초를 시작해볼게요.\"}\n",
    "]\n"
   ]
  },
  {
   "cell_type": "code",
   "execution_count": null,
   "metadata": {
    "colab": {
     "base_uri": "https://localhost:8080/",
     "height": 667
    },
    "executionInfo": {
     "elapsed": 21230,
     "status": "ok",
     "timestamp": 1724634775652,
     "user": {
      "displayName": "김홍준",
      "userId": "01118584956690988204"
     },
     "user_tz": -540
    },
    "id": "1D0jKKPLJ9r2",
    "outputId": "8d8c88f1-9e8b-491f-9e61-8f868da71cf7"
   },
   "outputs": [
    {
     "name": "stdout",
     "output_type": "stream",
     "text": [
      "Setting queue=True in a Colab notebook requires sharing enabled. Setting `share=True` (you can turn this off by setting `share=False` in `launch()` explicitly).\n",
      "\n",
      "Colab notebook detected. This cell will run indefinitely so that you can see errors and logs. To turn off, set debug=False in launch().\n",
      "Running on public URL: https://4ce322a5147ab37eb1.gradio.live\n",
      "\n",
      "This share link expires in 72 hours. For free permanent hosting and GPU upgrades, run `gradio deploy` from Terminal to deploy to Spaces (https://huggingface.co/spaces)\n"
     ]
    },
    {
     "data": {
      "text/html": [
       "<div><iframe src=\"https://4ce322a5147ab37eb1.gradio.live\" width=\"100%\" height=\"500\" allow=\"autoplay; camera; microphone; clipboard-read; clipboard-write;\" frameborder=\"0\" allowfullscreen></iframe></div>"
      ],
      "text/plain": [
       "<IPython.core.display.HTML object>"
      ]
     },
     "metadata": {},
     "output_type": "display_data"
    },
    {
     "name": "stdout",
     "output_type": "stream",
     "text": [
      "Keyboard interruption in main thread... closing server.\n",
      "Killing tunnel 127.0.0.1:7860 <> https://4ce322a5147ab37eb1.gradio.live\n"
     ]
    },
    {
     "data": {
      "text/plain": []
     },
     "execution_count": 7,
     "metadata": {},
     "output_type": "execute_result"
    }
   ],
   "source": [
    "import gradio as gr\n",
    "from openai import OpenAI\n",
    "\n",
    "# OpenAI API 설정\n",
    "client = OpenAI(api_key=\"\")\n",
    "\n",
    "# 시스템 메시지 설정\n",
    "system_msg=\"\"\"코딩튜터는 고등학생 정보과목에서 알고리즘과 프로그래밍을 학생들이 실습할 수 있게 도와주는 튜터봇입니다.\n",
    "              - 튜터는 \"반가와요~ \"라고 인사말로 학습을 시작합니다.\n",
    "              - 학생이 선택한 섹션으로 학습을 시작하고 먼저 간단하게 섹션 학습내용 요약을 제공합니다.\n",
    "              - 각 섹션별 학습 항목에 대해서 하나씩 개념을 명확하고 친절하게 설명하고 연습문제를 추가로 제공해서 각 개념을 이해하여 활용할 수 있도록 연습 기회를 제공합니다.\n",
    "              - 학생의 답변에 대해서 \"잘했어요!\",\"조금 더 생각해봐요~\" 와 같은 긍정적인 피드백을 제공합니다.\n",
    "              - 대화는 간결하게 유지하며, 최대 100자 이내로 진행합니다.단 코드는 300자 이내로 작성합니다.\n",
    "              - 튜터는 학생들이 자기주도 학습을 할 수 있도록 개인화 된 학습을 제공하고 모든 질의 응답을 한국어로 진행합니다.\"\"\"\n",
    "\n",
    "\n",
    "# 채팅 함수\n",
    "def chat_with_tutor(user_input, chat_history):\n",
    "    messages = [{\"role\": \"system\", \"content\": system_msg}] + chat_history\n",
    "\n",
    "    if not chat_history:  # 첫 대화일 경우 인사말과 함께 시작\n",
    "        messages.append({\"role\": \"user\", \"content\": \"파이썬 학습을 시작해줘요\"})\n",
    "\n",
    "    messages.append({\"role\": \"user\", \"content\": user_input})\n",
    "\n",
    "    response = client.chat.completions.create(\n",
    "        model=\"gpt-4o-mini-2024-07-18\",\n",
    "        messages=messages,\n",
    "        temperature=0.5,\n",
    "        max_tokens=300,\n",
    "        top_p=1,\n",
    "    )\n",
    "\n",
    "    response_msg = response.choices[0].message.content\n",
    "    chat_history.append({\"role\": \"assistant\", \"content\": response_msg})\n",
    "\n",
    "    return response_msg, chat_history\n",
    "\n",
    "# Gradio UI 구성\n",
    "def start_chat():\n",
    "    return \"반가워요~ 파이썬 기초를 학습해보도록 할게요. 먼저 파이썬의 기본 문법과 개념들을 간단히 요약해드릴게요.\", []\n",
    "\n",
    "with gr.Blocks() as demo:\n",
    "    gr.Markdown(\"# 파이썬 튜터 봇\")\n",
    "\n",
    "    chat_history = gr.State([])\n",
    "\n",
    "    with gr.Row():\n",
    "        start_button = gr.Button(\"학습 시작\")\n",
    "\n",
    "    tutor_response = gr.Textbox(label=\"튜터의 대답\")\n",
    "    user_input = gr.Textbox(label=\"학생의 질문\")\n",
    "\n",
    "    with gr.Row():\n",
    "        submit_button = gr.Button(\"질문 제출\")\n",
    "\n",
    "    start_button.click(start_chat, inputs=[], outputs=[tutor_response, chat_history])\n",
    "    submit_button.click(chat_with_tutor, inputs=[user_input, chat_history], outputs=[tutor_response, chat_history])\n",
    "\n",
    "# 실행\n",
    "demo.launch(debug=True)\n"
   ]
  },
  {
   "cell_type": "markdown",
   "metadata": {
    "id": "4roT2FmVefQy"
   },
   "source": [
    "# 학생 입력 내용 유형에 적합한 튜터 응답 - function call"
   ]
  },
  {
   "cell_type": "markdown",
   "metadata": {
    "id": "5QhG5mhBeaLI"
   },
   "source": [
    "**execute_code 함수**\n",
    "- exec()를 사용하여 동적으로 파이썬 코드를 실행하고, 그 결과를 성공 또는 오류 메시지로 반환하는 역할을 합니다. 이 함수는 학생이나 사용자가 입력한 파이썬 코드를 실행하는 튜터 시스템 등에서 사용할 수 있습니다.\n",
    "- exec()의 보안 문제에 주의하며, 실제 서비스에서는 이를 안전하게 실행할 수 있는 추가적인 보안 조치가 필요합니다.\n",
    "\n",
    "\n",
    "**사용자가 입력한 내용을 제출한 후 입력 필드를 비우기**\n",
    "submit_button.click() 호출에서, user_input 텍스트박스가 제출된 후 비워지도록 하려면, outputs에 user_input을 포함하고 빈 문자열로 설정하면 됩니다.\n",
    "\n",
    "```submit_button.click(chat_with_tutor, inputs=[user_input, chat_history], outputs=[tutor_response, chat_history, user_input], clear_on_submit=True)```"
   ]
  },
  {
   "cell_type": "code",
   "execution_count": null,
   "metadata": {
    "colab": {
     "base_uri": "https://localhost:8080/",
     "height": 667
    },
    "executionInfo": {
     "elapsed": 120320,
     "status": "ok",
     "timestamp": 1724638131449,
     "user": {
      "displayName": "김홍준",
      "userId": "01118584956690988204"
     },
     "user_tz": -540
    },
    "id": "As-qFm7YRU6R",
    "outputId": "bd92b3f1-5140-4137-d680-6232d5437c48"
   },
   "outputs": [
    {
     "name": "stdout",
     "output_type": "stream",
     "text": [
      "Setting queue=True in a Colab notebook requires sharing enabled. Setting `share=True` (you can turn this off by setting `share=False` in `launch()` explicitly).\n",
      "\n",
      "Colab notebook detected. This cell will run indefinitely so that you can see errors and logs. To turn off, set debug=False in launch().\n",
      "Running on public URL: https://d562b046efedeb16a1.gradio.live\n",
      "\n",
      "This share link expires in 72 hours. For free permanent hosting and GPU upgrades, run `gradio deploy` from Terminal to deploy to Spaces (https://huggingface.co/spaces)\n"
     ]
    },
    {
     "data": {
      "text/html": [
       "<div><iframe src=\"https://d562b046efedeb16a1.gradio.live\" width=\"100%\" height=\"500\" allow=\"autoplay; camera; microphone; clipboard-read; clipboard-write;\" frameborder=\"0\" allowfullscreen></iframe></div>"
      ],
      "text/plain": [
       "<IPython.core.display.HTML object>"
      ]
     },
     "metadata": {},
     "output_type": "display_data"
    },
    {
     "name": "stdout",
     "output_type": "stream",
     "text": [
      "Keyboard interruption in main thread... closing server.\n",
      "Killing tunnel 127.0.0.1:7860 <> https://d562b046efedeb16a1.gradio.live\n"
     ]
    },
    {
     "data": {
      "text/plain": []
     },
     "execution_count": 11,
     "metadata": {},
     "output_type": "execute_result"
    }
   ],
   "source": [
    "import gradio as gr\n",
    "from openai import OpenAI\n",
    "import json, os, sys, io\n",
    "\n",
    "# OpenAI API 설정\n",
    "client = OpenAI(api_key=\"\")\n",
    "\n",
    "# 시스템 메시지 설정\n",
    "system_msg = \"\"\"\n",
    "코딩튜터는 고등학생 정보과목에서 알고리즘과 프로그래밍을 학생들이 실습할 수 있게 도와주는 튜터봇입니다.\n",
    "- 튜터는 \"반가와요~ \"라고 인사말로 학습을 시작합니다.\n",
    "- 학생이 선택한 섹션으로 학습을 시작하고 먼저 간단하게 섹션 학습내용 요약을 제공합니다.\n",
    "- 각 섹션별 학습 항목에 대해서 하나씩 개념을 명확하고 친절하게 설명하고 연습문제를 추가로 제공해서 각 개념을 이해하여 활용할 수 있도록 연습 기회를 제공합니다.\n",
    "- 학생의 답변에 대해서 \"잘했어요!\", \"조금 더 생각해봐요~\" 와 같은 긍정적인 피드백을 제공합니다.\n",
    "- 대화는 간결하게 유지하며, 최대 100자 이내로 진행합니다. 단 코드는 300자 이내로 작성합니다.\n",
    "- 튜터는 학생들이 자기주도 학습을 할 수 있도록 개인화 된 학습을 제공하고 모든 질의 응답을 한국어로 진행합니다.\n",
    "\"\"\"\n",
    "\n",
    "# 함수 정의\n",
    "functions = [\n",
    "    {\n",
    "        \"name\": \"answer_question\",\n",
    "        \"description\": \"학생의 질문에 대한 답변을 제공합니다.\",\n",
    "        \"parameters\": {\n",
    "            \"type\": \"object\",\n",
    "            \"properties\": {\n",
    "                \"answer\": {\n",
    "                    \"type\": \"string\",\n",
    "                    \"description\": \"질문에 대한 텍스트 답변\"\n",
    "                }\n",
    "            },\n",
    "            \"required\": [\"answer\"]\n",
    "        }\n",
    "    },\n",
    "    {\n",
    "        \"name\": \"execute_code\",\n",
    "        \"description\": \"학생이 제출한 코드를 실행하고 결과를 반환합니다.\",\n",
    "        \"parameters\": {\n",
    "            \"type\": \"object\",\n",
    "            \"properties\": {\n",
    "                \"code\": {\n",
    "                    \"type\": \"string\",\n",
    "                    \"description\": \"학생이 작성한 파이썬 코드\"\n",
    "                }\n",
    "            },\n",
    "            \"required\": [\"code\"]\n",
    "        }\n",
    "    },\n",
    "    {\n",
    "        \"name\": \"handle_request\",\n",
    "        \"description\": \"학생의 새로운 요청을 처리합니다.\",\n",
    "        \"parameters\": {\n",
    "            \"type\": \"object\",\n",
    "            \"properties\": {\n",
    "                \"request\": {\n",
    "                    \"type\": \"string\",\n",
    "                    \"description\": \"학생의 새로운 요청\"\n",
    "                }\n",
    "            },\n",
    "            \"required\": [\"request\"]\n",
    "        }\n",
    "    }\n",
    "]\n",
    "\n",
    "# 함수 호출 시뮬레이션\n",
    "def answer_question(answer):\n",
    "    return {\"answer\": answer}\n",
    "\n",
    "# 코드 실행 함수 정의\n",
    "def execute_code(code):\n",
    "    # 여기서 코드를 실제로 실행하거나 안전하게 평가하는 로직을 추가할 수 있습니다.\n",
    "    try:\n",
    "        # 표준 출력을 임시로 StringIO로 변경\n",
    "        output = io.StringIO()\n",
    "        sys.stdout = output\n",
    "\n",
    "        exec_globals = {}\n",
    "        exec(code, exec_globals)  # 전달된 코드를 실행\n",
    "\n",
    "        # 표준 출력을 원래대로 복구\n",
    "        sys.stdout = sys.__stdout__\n",
    "\n",
    "        # 출력 결과를 가져오기\n",
    "        result = output.getvalue()\n",
    "\n",
    "        return {\"result\": result if result else \"코드 실행 성공!\"}\n",
    "\n",
    "    except Exception as e:\n",
    "        # 표준 출력을 원래대로 복구 (오류 발생 시에도)\n",
    "        sys.stdout = sys.__stdout__\n",
    "        return {\"result\": f\"코드 실행 오류: {str(e)}\"}\n",
    "\n",
    "def handle_request(request):\n",
    "    return {\"response\": f\"새로운 요청 '{request}'에 대한 처리\"}\n",
    "\n",
    "# 채팅 함수\n",
    "def chat_with_tutor(user_input, chat_history):\n",
    "    messages = [{\"role\": \"system\", \"content\": system_msg}] + chat_history\n",
    "    messages.append({\"role\": \"user\", \"content\": user_input})\n",
    "\n",
    "    response = client.chat.completions.create(\n",
    "        model=\"gpt-4o-mini-2024-07-18\",\n",
    "        messages=messages,\n",
    "        functions=functions,\n",
    "        function_call=\"auto\",\n",
    "        temperature=0.5,\n",
    "        max_tokens=300,\n",
    "        top_p=1,\n",
    "    )\n",
    "\n",
    "    # 모델의 응답이 함수 호출을 제안했는지 확인\n",
    "    if response.choices[0].finish_reason == 'function_call':\n",
    "        function_call = response.choices[0].message.function_call\n",
    "        function_name = function_call.name  # 딕셔너리 방식이 아닌 속성으로 접근\n",
    "        function_args = json.loads(function_call.arguments)  # 딕셔너리 대신 속성 접근\n",
    "\n",
    "        if function_name == \"answer_question\":\n",
    "            result = answer_question(function_args[\"answer\"])\n",
    "            response_msg = f\"잘했어요~ {result['answer']}에 대한 답변입니다.\"\n",
    "        elif function_name == \"execute_code\":\n",
    "            result = execute_code(function_args[\"code\"])\n",
    "            response_msg = \"잘했어요~ 코드 실행 결과가 성공적이네요! 더 알고 싶은 것이 있나요?\"\n",
    "        elif function_name == \"handle_request\":\n",
    "            result = handle_request(function_args[\"request\"])\n",
    "            response_msg = f\"'{result['response']}'을 처리했습니다.\"\n",
    "\n",
    "    else:\n",
    "        response_msg = response.choices[0].message.content\n",
    "\n",
    "    chat_history.append({\"role\": \"assistant\", \"content\": response_msg})\n",
    "    return response_msg, chat_history, \"\"\n",
    "\n",
    "# Gradio UI 구성\n",
    "def start_chat():\n",
    "    return \"반가워요~ 파이썬 기초를 학습해보도록 할게요. 먼저 파이썬의 기본 문법과 개념들을 간단히 요약해드릴게요.\", []\n",
    "\n",
    "with gr.Blocks() as demo:\n",
    "    gr.Markdown(\"# 파이썬 튜터 봇\")\n",
    "\n",
    "    chat_history = gr.State([])\n",
    "\n",
    "    with gr.Tabs():  # 탭 추가\n",
    "        with gr.TabItem(\"학습 대화\"):\n",
    "            tutor_response = gr.Textbox(label=\"튜터\")\n",
    "            user_input = gr.Textbox(label=\"학생\")\n",
    "\n",
    "    with gr.Row():\n",
    "        start_button = gr.Button(\"학습\")\n",
    "        submit_button = gr.Button(\"제출\")\n",
    "\n",
    "    start_button.click(start_chat, inputs=[], outputs=[tutor_response, chat_history])\n",
    "    submit_button.click(chat_with_tutor, inputs=[user_input, chat_history], outputs=[tutor_response, chat_history, user_input])\n",
    "\n",
    "    with gr.TabItem(\"튜터링 히스토리\"):  # 히스토리 탭 추가\n",
    "        history_display = gr.Markdown(value=\"\")  # 히스토리 표시용 Markdown\n",
    "\n",
    "        def update_history(chat_history):\n",
    "            # 히스토리를 텍스트로 포맷팅\n",
    "            formatted_history = \"\"\n",
    "            for entry in chat_history:\n",
    "                role = \"튜터\" if entry['role'] == \"assistant\" else \"학생\"\n",
    "                formatted_history += f\"**{role}**: {entry['content']}\\n\\n\"\n",
    "            return formatted_history\n",
    "\n",
    "        # 대화 기록 업데이트\n",
    "        submit_button.click(update_history, inputs=[chat_history], outputs=[history_display])\n",
    "\n",
    "demo.launch(debug=True)"
   ]
  },
  {
   "cell_type": "code",
   "execution_count": null,
   "metadata": {
    "id": "ss2olq-kpEbr"
   },
   "outputs": [],
   "source": [
    "# 함수 호출 시뮬레이션\n",
    "def answer_question(answer):\n",
    "    return {\"answer\": answer}\n",
    "\n",
    "# 코드 실행 함수 정의\n",
    "def execute_code(code, user_input_value):\n",
    "    # 여기서 코드를 실제로 실행하거나 안전하게 평가하는 로직을 추가할 수 있습니다.\n",
    "    try:\n",
    "        # 사용자로부터 입력을 받는 input() 함수 대체 (정규 표현식 사용)\n",
    "        if user_input_value:\n",
    "            # 정규 표현식으로 input()함수 전체를 대체(괄호포함)\n",
    "            code = re.sub(r'input\\((.*?)\\)', f'\"{user_input_value}\"', code)\n",
    "        # 디버깅을 위한 출력 : 대체된 코드 확인\n",
    "        print(f\"대체코드:\\n{code}\")\n",
    "\n",
    "        # 코드 실행 환경설정\n",
    "        exec_globals = {}\n",
    "        exec_output = []\n",
    "\n",
    "        # print 출력을 수집하기 위한 함수 재정의\n",
    "        def custom_print(*args):\n",
    "            exec_output.append(\" \".join(map(str, args)))\n",
    "\n",
    "        # print함수를 customer_print로 대체 (출력값 수집)\n",
    "        exec_globals['print'] = custom_print\n",
    "\n",
    "        # 코드 실행\n",
    "        exec(code, exec_globals)\n",
    "\n",
    "        # 실행 결과 반환 (수집된 출력)\n",
    "        exec_output_str = '\\n'.join(exec_output) if exec_output else \"코드 실행 성공!\"\n",
    "        return exec_output_str\n",
    "    except Exception as e:\n",
    "        # 오류 발생시 반환\n",
    "        return f\"코드 실행 오류: {str(e)}\"\n",
    "\n",
    "# input() 함수가 있는지 확인하는 함수\n",
    "def check_for_input_function(code):\n",
    "    # 정규 표현식으로 input() 함수가 포함된 코드 감지\n",
    "    return bool(re.search(r'input\\((.*?)\\)', code))\n",
    "\n",
    "# gradio 인터페이스 정의\n",
    "with gr.Blocks() as demo:\n",
    "    # 코드 입력 및 input() 값을 받는 텍스트 박스\n",
    "    code_input = gr.Textbox(label=\"코드 입력\", placeholder=\"input()을 포함한 코드를 입력하세요\", lines=10)\n",
    "\n",
    "    # input() 값 입력창, 기본적으로 숨김\n",
    "    user_input_value = gr.Textbox(label=\"input()값 입력\", placeholder=\"input() 값\", visible=False)\n",
    "\n",
    "    # 결과 출력 텍스트박스\n",
    "    code_output = gr.Textbox(label=\"코드 실행 결과\", placeholder=\"여기에 실행결과가 표시\")\n",
    "\n",
    "    # 코드 실행 버튼\n",
    "    code_run_button = gr.Button(\"코드 실행\")\n",
    "\n",
    "    # 코드에서 input() 함수가 있는지 확인하여 입력창 표시\n",
    "    def handle_code_execution(code):\n",
    "        # input() 함수가 있는지 확인 (정규표현식 사용)\n",
    "        if check_for_input_function(code):\n",
    "            return gr.update(visible=True), \"\" # input 창을 보이게 하고, 실행 결과는 아직 없음\n",
    "        else:\n",
    "            output = execute_code(code, None)\n",
    "            return gr.update(visuble=False), output # input 창을 숨기고, 코드 바로 실행\n",
    "\n",
    "    # 최종 코드 실행 (input() 함수 값 입력 후)\n",
    "    def execute_with_input(code, user_input_value):\n",
    "        output = execute_code(code, user_input_value)\n",
    "        return output\n",
    "\n",
    "    # 버튼 클릭시 코드에서 input()을 감지해 창을 표시하거나 바로 실행\n",
    "    code_run_button.click(handle_code_execution, inputs=[code_input], outputs=[user_input_value, code_output])\n",
    "\n",
    "    # input() 값 입력 후 코드 실행\n",
    "    user_input_value.submit(execute_with_input, inputs=[code_input, user_input_value], outputs=[code_output])\n",
    "\n",
    "demo.launch(debug=True)"
   ]
  }
 ],
 "metadata": {
  "colab": {
   "authorship_tag": "ABX9TyOkKsFcB2QEeJ4LjQS3/cfV",
   "provenance": []
  },
  "kernelspec": {
   "display_name": "Python 3",
   "name": "python3"
  },
  "language_info": {
   "name": "python"
  }
 },
 "nbformat": 4,
 "nbformat_minor": 0
}
