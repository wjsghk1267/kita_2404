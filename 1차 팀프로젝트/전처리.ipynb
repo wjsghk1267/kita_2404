{
 "cells": [
  {
   "cell_type": "code",
   "execution_count": 2,
   "metadata": {},
   "outputs": [
    {
     "name": "stdout",
     "output_type": "stream",
     "text": [
      "<class 'pandas.core.frame.DataFrame'>\n",
      "RangeIndex: 13620 entries, 0 to 13619\n",
      "Data columns (total 13 columns):\n",
      " #   Column         Non-Null Count  Dtype \n",
      "---  ------         --------------  ----- \n",
      " 0   Category       13620 non-null  object\n",
      " 1   Title          13620 non-null  object\n",
      " 2   Author         13620 non-null  object\n",
      " 3   Publisher      13620 non-null  object\n",
      " 4   Price          13620 non-null  int64 \n",
      " 5   Sales_Index    13620 non-null  int64 \n",
      " 6   Pages          13620 non-null  int64 \n",
      " 7   Gender         13620 non-null  int64 \n",
      " 8   Age            13620 non-null  int64 \n",
      " 9   month          13620 non-null  int64 \n",
      " 10  Publish_Month  13620 non-null  int64 \n",
      " 11  Page_cat       13620 non-null  object\n",
      " 12  Price_cat      13620 non-null  object\n",
      "dtypes: int64(7), object(6)\n",
      "memory usage: 1.4+ MB\n"
     ]
    }
   ],
   "source": [
    "import pandas as pd\n",
    "\n",
    "# CSV 파일 읽기\n",
    "df = pd.read_csv('static/yes24.csv')\n",
    "df.info()"
   ]
  }
 ],
 "metadata": {
  "kernelspec": {
   "display_name": "myenv",
   "language": "python",
   "name": "python3"
  },
  "language_info": {
   "codemirror_mode": {
    "name": "ipython",
    "version": 3
   },
   "file_extension": ".py",
   "mimetype": "text/x-python",
   "name": "python",
   "nbconvert_exporter": "python",
   "pygments_lexer": "ipython3",
   "version": "3.11.7"
  }
 },
 "nbformat": 4,
 "nbformat_minor": 2
}
