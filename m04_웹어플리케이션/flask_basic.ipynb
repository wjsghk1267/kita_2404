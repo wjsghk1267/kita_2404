{
 "cells": [
  {
   "cell_type": "markdown",
   "metadata": {},
   "source": [
    "#### 웹 구조 및  프로세스\n",
    "\n",
    "웹 구성 요소\n",
    "- User: 웹 브라우저에서 요청을 보냄.\n",
    "- Web Server(Nginx, Apache): 정적 파일 요청을 처리하거나, 동적 요청을 Web Application Server로 전달.\n",
    "- Web Application Server(Gunicorn, uWSGI): WSGI를 통해 요청을 Web Application에 전달.\n",
    "    - wWSGI : Python Web Application과 Web Server 간의 표준 인터페이스를 제공\n",
    "- Web Application(Flask, Django): 비즈니스 로직을 수행하고 데이터베이스와 상호작용하여 응답을 생성.\n",
    "- Database: Web Application과 상호작용하여 데이터를 제공.\n",
    "\n",
    "로컬 개발 환경\n",
    "- 일반적으로 별도의 Web Server(Nginx, Apache 등)를 사용하지 않는 경우가 많습니다. 대신 Flask 자체가 개발용 서버로 동작\n",
    "- Flask가 자체적으로 제공하는 개발 서버를 사용하지만, 배포 환경과 유사한 설정을 위해 Gunicorn 같은 WSGI 서버를 사용할 수도 있다.\n",
    "- 로컬 개발 프로세스\n",
    "    - HTTP 요청: 사용자가 웹 브라우저를 통해 http://127.0.0.1:5000으로 요청을 보냅니다.\n",
    "    - Flask 개발 서버 또는 Gunicorn: 요청을 수신하고, Flask 애플리케이션으로 전달합니다.\n",
    "    - Flask 애플리케이션: 요청을 처리하고, 필요한 데이터를 데이터베이스에서 조회하거나 저장합니다. 요청에 대한 응답을 생성합니다.\n",
    "    - HTTP 응답: Flask 애플리케이션이 생성한 응답을 Flask 개발 서버 또는 Gunicorn이 사용자에게 반환합니다.\n",
    "\n",
    "정적 파일 vs 동적 파일\n",
    "- 정적 파일 (Static Files):\n",
    "    - 정의: 파일 내용이 변경되지 않는 파일들로, 클라이언트 요청에 따라 서버에서 그대로 제공되는 파일을 말합니다.\n",
    "    - 예시: HTML 파일, CSS 파일, 이미지 파일(JPG, PNG 등), JavaScript 파일 등.\n",
    "    - 특징: 서버에서 클라이언트로 그대로 전달되며, 별도의 처리나 변환이 필요하지 않습니다.\n",
    "- 동적 파일 (Dynamic Files):\n",
    "    - 정의: 클라이언트 요청에 따라 서버에서 생성되거나 변경되는 파일을 말합니다.\n",
    "    - 예시: PHP, JSP, ASP, Python (Django, Flask), Ruby (Rails) 등의 스크립트 파일.\n",
    "    - 특징: 서버에서 실행되어 클라이언트 요청에 맞춰 동적으로 콘텐츠를 생성합니다. 데이터베이스와 상호 작용하거나 사용자 입력을 처리하여 맞춤형 콘텐츠를 생성합니다.\n",
    "\n",
    "예시 시나리오\n",
    "- 정적 파일 요청:\n",
    "    - 사용자가 웹 브라우저에서 http://example.com/index.html을 요청합니다.\n",
    "    - 웹 서버(Apache 또는 Nginx)가 이 요청을 받아 index.html 파일을 찾아서 클라이언트에게 그대로 전달합니다.\n",
    "- 동적 파일 요청:\n",
    "    - 사용자가 웹 브라우저에서 http://example.com/profile?user_id=123을 요청합니다.\n",
    "    - 웹 서버가 이 요청을 받아 동적 콘텐츠 생성이 필요하다고 판단하고, 요청을 웹 애플리케이션 서버(Tomcat, Django 등)로 전달합니다.\n",
    "    - 웹 애플리케이션 서버가 비즈니스 로직을 처리하고, 데이터베이스에서 사용자 정보(예: user_id=123)를 가져와 동적으로 profile 페이지를 생성합니다.\n",
    "    - 생성된 동적 페이지를 웹 서버를 통해 클라이언트에게 전달합니다.\n",
    "    \n",
    "\n",
    "요청 및 응답 흐름 설명\n",
    "\n",
    "- HTML Request (HTML 요청): 사용자가 웹 브라우저를 통해 웹 서버에 HTML 요청을 보냅니다.\n",
    "- CSS and JS file Requests (CSS 및 JS 파일 요청):\n",
    "    - 웹 서버는 정적 파일 요청을 Static Files Storage에서 처리합니다.\n",
    "    - 정적 파일이 사용자의 웹 브라우저로 반환됩니다.\n",
    "- WSGI (동적 요청 처리):\n",
    "    - 웹 서버는 동적 요청을 WSGI를 통해 Python 웹 애플리케이션으로 전달합니다.\n",
    "    - Python 웹 애플리케이션은 요청을 처리하고, 데이터베이스와 상호작용하며, 결과를 생성합니다.\n",
    "    - 결과는 WSGI를 통해 웹 서버로 반환됩니다.\n",
    "- Processed Response (처리된 응답):\n",
    "    - 웹 서버는 처리된 응답을 사용자에게 반환합니다.\n",
    "    - 사용자의 웹 브라우저는 응답을 받아 웹 페이지를 렌더링합니다.\n",
    "\n",
    "#### Flask 기능\n",
    "\n",
    "- HTTP 요청 처리 \n",
    "    - Flask는 웹 서버로부터 전달받은 HTTP 요청을 처리합니다.\n",
    "    - 라우팅 시스템을 통해 특정 URL에 대한 요청을 해당하는 뷰 함수로 전달합니다.\n",
    "- 비즈니스 로직 수행:\n",
    "    - 뷰 함수에서 애플리케이션의 비즈니스 로직을 수행합니다.\n",
    "    - 사용자 입력을 검증하고, 데이터베이스와 상호작용하며, 필요한 데이터를 가져오거나 저장합니다.\n",
    "- 템플릿 렌더링:\n",
    "    - Flask는 Jinja2 템플릿 엔진을 사용하여 동적 HTML 페이지를 생성합니다.\n",
    "    - 템플릿 렌더링을 통해 데이터와 HTML 구조를 결합하여 사용자에게 동적인 웹 페이지를 제공합니다.\n",
    "- 정적 파일 제공:\n",
    "    - Flask는 CSS, JavaScript, 이미지와 같은 정적 파일을 제공하는 기능도 포함하고 있습니다.\n",
    "    - 정적 파일은 일반적으로 /static 경로를 통해 제공됩니다.\n",
    "- 세션 관리 및 사용자 인증:\n",
    "    - Flask는 세션 관리를 통해 사용자의 로그인 상태를 유지합니다.\n",
    "    - 사용자 인증 및 권한 부여를 처리하여 보안이 필요한 페이지에 접근을 제어합니다.\n",
    "- API 제공:\n",
    "    - Flask는 RESTful API를 쉽게 구축할 수 있도록 도와줍니다.\n",
    "    - 다양한 클라이언트(예: 모바일 앱, 다른 웹 서비스)와 상호작용할 수 있는 API를 제공합니다.\n",
    "\n",
    "<img src=\"flask_architecture.png\">"
   ]
  },
  {
   "cell_type": "markdown",
   "metadata": {},
   "source": [
    "#### 풀스택 프레임워크 vs 마이크로 프레임워크\n",
    "> 풀스택은 프레임워크 안에 모든 기능을 가지고 있다는 의미\n",
    "\n",
    "풀스택 프레임워크: 웹 개발에 관련된 모든 기능을 제공 \n",
    "- 대표적 프레임워크: JAVA Spring, Python Django, Ruby on Rails  \n",
    "  - 요청/응답 추상화, 세션 상태 관리, 사용자 인증/권한 관리, 웹페이지 템플릿, URL 매핑, 데이터베이스 접근, 보안, 캐시, 데이터 접근 추상화등 다양한 기능을 제공\n",
    "  - 각 프레임워크를 활용하는데 학습곡선이 큼\n",
    "  - 하나의 웹서비스를 구축하는데에도 다양한 프레임워크 기능을 이해하고, 불필요한 부분까지 구축해야함\n",
    "\n",
    "마이크로 프레임워크: 웹 개발에 필요한 최소 기능만 제공, 나머지 기능은 자신이 원하는 다른 라이브러리나 프레임워크를 확장해 사용\n",
    "- 빠르게 원하는 기능을 기반으로 웹서비스 구축 가능, 이후 필요한 기능만 확장 가능 "
   ]
  },
  {
   "cell_type": "markdown",
   "metadata": {},
   "source": [
    "#### Flask (플라스크) 특징\n",
    "* 마이크로 프레임워크 기반\n",
    "* 웹 개발 최소 기능 제공, RESTful 요청 처리, 유니코드 기반, 필요한 부분은 추가해서 확장 가능 \n",
    "* 참고: https://flask.palletsprojects.com/en/3.0.x/"
   ]
  },
  {
   "cell_type": "markdown",
   "metadata": {},
   "source": [
    "#### Why flask? : 가장 짧은 시간에 익히고, 가장 빠르게 구현할 수 있음!\n",
    "- 백엔드 기술을 처음 익히는데 적합\n",
    "  - 파이썬을 사용하므로, 다양한 파이썬 라이브러리 활용 가능함 (확장성이 매우 큼)\n",
    "  - 처음 익힐 시에는 복잡도를 낮춰야 함\n",
    "    - 새로운 언어 + 처음 익히는 백엔드 조합은 복잡도가 훨씬 높아져서, 아무것도 익힐 수 없음\n",
    "  - flask 로 백엔드를 익히면, 기본적인 백엔드 기술에 대해 이해도가 높아지고, 다른 기술을 익히는데 도움이 됨\n",
    "    - Rest API, CORS, 데이터베이스 연결, MVC 등 가장 기본적인 기술을 다룰 수 있으며, 이는 다른 언어/프레임워크에 그대로 적용 가능\n",
    "    - 백엔드 이해와 구현 경험을 기반으로 JAVA Spring/Go 등 다른 언어로 구현을 대체하면 빠르게 다양한 기술을 익힐 수 있음"
   ]
  },
  {
   "cell_type": "markdown",
   "metadata": {},
   "source": [
    "Flask 모듈 임포트 (보통 다음과 같이 임포트)\n",
    "* pip install flask"
   ]
  },
  {
   "cell_type": "code",
   "execution_count": 9,
   "metadata": {},
   "outputs": [
    {
     "name": "stdout",
     "output_type": "stream",
     "text": [
      "Requirement already satisfied: flask in /opt/anaconda3/lib/python3.7/site-packages (1.1.1)\n",
      "Requirement already satisfied: Werkzeug>=0.15 in /opt/anaconda3/lib/python3.7/site-packages (from flask) (1.0.0)\n",
      "Requirement already satisfied: click>=5.1 in /opt/anaconda3/lib/python3.7/site-packages (from flask) (7.1.1)\n",
      "Requirement already satisfied: Jinja2>=2.10.1 in /opt/anaconda3/lib/python3.7/site-packages (from flask) (2.11.1)\n",
      "Requirement already satisfied: itsdangerous>=0.24 in /opt/anaconda3/lib/python3.7/site-packages (from flask) (1.1.0)\n",
      "Requirement already satisfied: MarkupSafe>=0.23 in /opt/anaconda3/lib/python3.7/site-packages (from Jinja2>=2.10.1->flask) (1.1.1)\n"
     ]
    }
   ],
   "source": [
    "!pip install flask"
   ]
  },
  {
   "cell_type": "code",
   "execution_count": 1,
   "metadata": {},
   "outputs": [],
   "source": [
    "from flask import Flask"
   ]
  },
  {
   "cell_type": "markdown",
   "metadata": {},
   "source": [
    "### 1.2. Flask 객체를 app에 할당"
   ]
  },
  {
   "cell_type": "code",
   "execution_count": 2,
   "metadata": {},
   "outputs": [],
   "source": [
    "app = Flask(__name__)"
   ]
  },
  {
   "cell_type": "code",
   "execution_count": 3,
   "metadata": {},
   "outputs": [
    {
     "data": {
      "text/plain": [
       "'__main__'"
      ]
     },
     "execution_count": 3,
     "metadata": {},
     "output_type": "execute_result"
    }
   ],
   "source": [
    "__name__"
   ]
  },
  {
   "cell_type": "markdown",
   "metadata": {},
   "source": [
    "### \\_\\_name\\_\\_ 이란?\n",
    "-  \\_\\_name\\_\\_ 이라는 변수는 모듈의 이름이 저장됨\n",
    "- 실행하는 코드에서는 \\_\\_main\\_\\_ 값이 들어감"
   ]
  },
  {
   "cell_type": "markdown",
   "metadata": {},
   "source": [
    "### test.py\n",
    "\n",
    "```python\n",
    "print ('test.py __name__:', __name__)\n",
    "```"
   ]
  },
  {
   "cell_type": "markdown",
   "metadata": {},
   "source": [
    "### start.py\n",
    "\n",
    "```python\n",
    "import test\n",
    "\n",
    "print ('start.py __name__:', __name__)\n",
    "```\n",
    "\n",
    "> start.py 를 실행하면\n",
    "\n",
    "```bash\n",
    "test.py __name__: test\n",
    "start.py __name__: __main__\n",
    "```"
   ]
  },
  {
   "cell_type": "markdown",
   "metadata": {},
   "source": [
    "파이썬과 시작점(entry point)\n",
    "- 파이썬은 스크립트 언어\n",
    "- 스크립트 언어는 전통적으로 시작점없이 스크립트 코드를 바로 실행함"
   ]
  },
  {
   "cell_type": "markdown",
   "metadata": {},
   "source": [
    "모듈이 아니라, 해당 코드 직접 실행시만 실행되는 코드"
   ]
  },
  {
   "cell_type": "code",
   "execution_count": 4,
   "metadata": {},
   "outputs": [
    {
     "name": "stdout",
     "output_type": "stream",
     "text": [
      "11\n",
      "12\n"
     ]
    }
   ],
   "source": [
    "def add_one(data):\n",
    "    return data + 1\n",
    " \n",
    "def add_two(data):\n",
    "    return data + 2\n",
    " \n",
    "if __name__ == '__main__': # 모듈이 아니라, 해당 코드 직접 실행시만 실행\n",
    "    print(add_one(10))\n",
    "    print(add_two(10))"
   ]
  },
  {
   "cell_type": "markdown",
   "metadata": {},
   "source": [
    "flask 객체 생성"
   ]
  },
  {
   "cell_type": "markdown",
   "metadata": {},
   "source": [
    "- Flask(`__name__`) 으로 설정하여, 현재 위치를 flask 객체에 알려줘야 함\n",
    "  - 이름을 변경해도 정상 실행되지만, 일부 확장 기능 사용시에는 해당 이름을 정확히 알려주지 않을 경우, 정상 동작되지 않음"
   ]
  },
  {
   "cell_type": "code",
   "execution_count": 5,
   "metadata": {},
   "outputs": [],
   "source": [
    "from flask import Flask\n",
    "app = Flask(__name__)"
   ]
  },
  {
   "cell_type": "code",
   "execution_count": 6,
   "metadata": {},
   "outputs": [
    {
     "data": {
      "text/plain": [
       "<Flask '__main__'>"
      ]
     },
     "execution_count": 6,
     "metadata": {},
     "output_type": "execute_result"
    }
   ],
   "source": [
    "app"
   ]
  },
  {
   "cell_type": "markdown",
   "metadata": {},
   "source": [
    "라우팅 경로를 설정"
   ]
  },
  {
   "cell_type": "markdown",
   "metadata": {},
   "source": [
    "URL 이란\n",
    "- Uniform Resource Locator\n",
    "- 인터넷 상의 자원 위치 표기를 위한 규약\n",
    "- WWW 주요 요소 중 하나: HTML, URL, HTTP\n",
    "\n",
    "\n",
    "참고: URL vs URI\n",
    "- URI(Uniform Resource Identifier): 통합 자원 식별자\n",
    "- URI의 하위 개념이 URL\n",
    "\n",
    "  - https://www.fun-coding.org 주소\n",
    "    - https://www.fun-coding.org 라는 서버를 나타내는 URL이면서 URI\n",
    "  - https://www.fun-coding.org/input?id=dave&pw=1111 주소\n",
    "    - https://www.fun-coding.org/input 은 URL\n",
    "      - https://www.fun-coding.org/input?id=dave&pw=1111 은 URI \n",
    "      - 내가 원하는 정보를 얻기 위해서는 **?id=dave&pw=1111** 라는 식별자가 필요하기 때문\n",
    "\n",
    "> 두 용어는 혼용하고 있으므로, 참고로만 이해"
   ]
  },
  {
   "cell_type": "markdown",
   "metadata": {},
   "source": [
    "라우팅(route)이란?\n",
    "- 적절한 목적지를 찾아주는 기능 \n",
    "- URL 을 해당 URL 에 맞는 기능과 연결해 줌\n",
    "  - 예:\n",
    "    - http://www.fun-coding.org/hello\n",
    "    - http://www.fun-coding.org 서버에서 hello 이라는 목적지에 맞는 함수를 호출해줌 "
   ]
  },
  {
   "cell_type": "code",
   "execution_count": 6,
   "metadata": {},
   "outputs": [],
   "source": [
    "@app.route(\"/hello\")\n",
    "def hello():                           \n",
    "    return \"<h1>Hello World!</h1>\""
   ]
  },
  {
   "cell_type": "markdown",
   "metadata": {},
   "source": [
    "- @ 으로 시작하는 코드는 데코레이터라고 함 (별도 챕터로 설명)"
   ]
  },
  {
   "cell_type": "markdown",
   "metadata": {},
   "source": [
    "메인 모듈로 실행될 때 flask 웹 서버 구동 \n",
    "- 서버로 구동한 IP 와 포트를 옵션으로 넣어줄 수 있음\n",
    "- app.run() 함수로 서버 구동 가능\n",
    "  - host, port, debug 를 주로 사용함\n",
    "    - host: 웹주소\n",
    "    - port: 포트\n",
    "    - debug: True or False\n",
    "\n",
    "```python\n",
    "run(host=None, port=None, debug=True)\n",
    "```"
   ]
  },
  {
   "cell_type": "markdown",
   "metadata": {},
   "source": [
    "### 기본 개발 프로세스\n",
    "- 자신의 PC 에서 웹서비스 구현\n",
    "  - localhost, 127.0.0.1, 또는 0.0.0.0 으로 host 설정\n",
    "  - app.run() 함수로 자체 웹서버 구현 가능"
   ]
  },
  {
   "cell_type": "code",
   "execution_count": 16,
   "metadata": {},
   "outputs": [],
   "source": [
    "host_addr = \"0.0.0.0\"\n",
    "port_num = \"8080\""
   ]
  },
  {
   "cell_type": "code",
   "execution_count": 17,
   "metadata": {},
   "outputs": [
    {
     "name": "stdout",
     "output_type": "stream",
     "text": [
      " * Serving Flask app \"__main__\" (lazy loading)\n",
      " * Environment: production\n",
      "\u001b[31m   WARNING: This is a development server. Do not use it in a production deployment.\u001b[0m\n",
      "\u001b[2m   Use a production WSGI server instead.\u001b[0m\n",
      " * Debug mode: off\n"
     ]
    },
    {
     "name": "stderr",
     "output_type": "stream",
     "text": [
      " * Running on http://0.0.0.0:8080/ (Press CTRL+C to quit)\n"
     ]
    }
   ],
   "source": [
    "if __name__ == \"__main__\":              \n",
    "    app.run(host=host_addr, port=port_num)"
   ]
  },
  {
   "cell_type": "markdown",
   "metadata": {},
   "source": [
    "### 1.5. 전체 기본 코드"
   ]
  },
  {
   "cell_type": "code",
   "execution_count": 7,
   "metadata": {
    "scrolled": true
   },
   "outputs": [
    {
     "name": "stdout",
     "output_type": "stream",
     "text": [
      " * Serving Flask app '__main__'\n",
      " * Debug mode: off\n"
     ]
    },
    {
     "name": "stderr",
     "output_type": "stream",
     "text": [
      "WARNING: This is a development server. Do not use it in a production deployment. Use a production WSGI server instead.\n",
      " * Running on http://127.0.0.1:8080\n",
      "Press CTRL+C to quit\n"
     ]
    }
   ],
   "source": [
    "from flask import Flask\n",
    "\n",
    "app = Flask(__name__)\n",
    "@app.route(\"/hello\")\n",
    "def test():                           \n",
    "    return \"Hello Flask!\"\n",
    "\n",
    "if __name__ == \"__main__\":              \n",
    "    app.run(host=\"127.0.0.1\", port=\"8080\")"
   ]
  },
  {
   "cell_type": "markdown",
   "metadata": {},
   "source": [
    "* flask 라이브러리를 사용한 코드는 보통 파일이름.py 로 작성한 후\n",
    "  - python 파일이름.py\n",
    "* 위와 같이 서버에서 실행하는 것이 일반적\n",
    "* 노트북에서는 실행 후, 테스트 끝나면, Terminate를 눌러줘야 함"
   ]
  }
 ],
 "metadata": {
  "kernelspec": {
   "display_name": "Python 3 (ipykernel)",
   "language": "python",
   "name": "python3"
  },
  "language_info": {
   "codemirror_mode": {
    "name": "ipython",
    "version": 3
   },
   "file_extension": ".py",
   "mimetype": "text/x-python",
   "name": "python",
   "nbconvert_exporter": "python",
   "pygments_lexer": "ipython3",
   "version": "3.11.7"
  },
  "nbTranslate": {
   "displayLangs": [
    "*"
   ],
   "hotkey": "alt-t",
   "langInMainMenu": true,
   "sourceLang": "en",
   "targetLang": "fr",
   "useGoogleTranslate": true
  }
 },
 "nbformat": 4,
 "nbformat_minor": 2
}
