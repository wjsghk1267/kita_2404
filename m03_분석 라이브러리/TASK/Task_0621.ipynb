{
 "cells": [
  {
   "cell_type": "code",
   "execution_count": 111,
   "metadata": {},
   "outputs": [
    {
     "data": {
      "text/html": [
       "<div>\n",
       "<style scoped>\n",
       "    .dataframe tbody tr th:only-of-type {\n",
       "        vertical-align: middle;\n",
       "    }\n",
       "\n",
       "    .dataframe tbody tr th {\n",
       "        vertical-align: top;\n",
       "    }\n",
       "\n",
       "    .dataframe thead th {\n",
       "        text-align: right;\n",
       "    }\n",
       "</style>\n",
       "<table border=\"1\" class=\"dataframe\">\n",
       "  <thead>\n",
       "    <tr style=\"text-align: right;\">\n",
       "      <th></th>\n",
       "      <th>Index</th>\n",
       "      <th>Article</th>\n",
       "    </tr>\n",
       "  </thead>\n",
       "  <tbody>\n",
       "    <tr>\n",
       "      <th>0</th>\n",
       "      <td>1</td>\n",
       "      <td>17사단 통합방위 실기동훈련 실시</td>\n",
       "    </tr>\n",
       "    <tr>\n",
       "      <th>1</th>\n",
       "      <td>2</td>\n",
       "      <td>연막탄 터뜨리는 K1E1 전차</td>\n",
       "    </tr>\n",
       "    <tr>\n",
       "      <th>2</th>\n",
       "      <td>3</td>\n",
       "      <td>국회의장, 여야 원내대표와 회동</td>\n",
       "    </tr>\n",
       "    <tr>\n",
       "      <th>3</th>\n",
       "      <td>4</td>\n",
       "      <td>실기동훈련 참가한 K55A1자주포</td>\n",
       "    </tr>\n",
       "    <tr>\n",
       "      <th>4</th>\n",
       "      <td>5</td>\n",
       "      <td>실기동훈련하는 상륙돌격장갑차</td>\n",
       "    </tr>\n",
       "    <tr>\n",
       "      <th>...</th>\n",
       "      <td>...</td>\n",
       "      <td>...</td>\n",
       "    </tr>\n",
       "    <tr>\n",
       "      <th>145</th>\n",
       "      <td>146</td>\n",
       "      <td>윤 대통령, 참전용사 보훈요양원 방문…“국가 헌신에 감사”</td>\n",
       "    </tr>\n",
       "    <tr>\n",
       "      <th>146</th>\n",
       "      <td>147</td>\n",
       "      <td>경과원, 경기 북부 중소기업 ‘북미 시장’ 개척 지원</td>\n",
       "    </tr>\n",
       "    <tr>\n",
       "      <th>147</th>\n",
       "      <td>148</td>\n",
       "      <td>원희룡 \"자기 책임 없고 모두 남 책임인 정치는 오래 못 가\"</td>\n",
       "    </tr>\n",
       "    <tr>\n",
       "      <th>148</th>\n",
       "      <td>149</td>\n",
       "      <td>[현장영상]정청래 “위원장이 그렇게 생각한다는데…10분간 나가 있으세요”</td>\n",
       "    </tr>\n",
       "    <tr>\n",
       "      <th>149</th>\n",
       "      <td>150</td>\n",
       "      <td>원희룡, '윤심' 묻자 \"출마 별개\"…나경원·윤상현 이미 '용산행'</td>\n",
       "    </tr>\n",
       "  </tbody>\n",
       "</table>\n",
       "<p>150 rows × 2 columns</p>\n",
       "</div>"
      ],
      "text/plain": [
       "     Index                                   Article\n",
       "0        1                        17사단 통합방위 실기동훈련 실시\n",
       "1        2                          연막탄 터뜨리는 K1E1 전차\n",
       "2        3                         국회의장, 여야 원내대표와 회동\n",
       "3        4                        실기동훈련 참가한 K55A1자주포\n",
       "4        5                           실기동훈련하는 상륙돌격장갑차\n",
       "..     ...                                       ...\n",
       "145    146          윤 대통령, 참전용사 보훈요양원 방문…“국가 헌신에 감사”\n",
       "146    147             경과원, 경기 북부 중소기업 ‘북미 시장’ 개척 지원\n",
       "147    148        원희룡 \"자기 책임 없고 모두 남 책임인 정치는 오래 못 가\"\n",
       "148    149  [현장영상]정청래 “위원장이 그렇게 생각한다는데…10분간 나가 있으세요”\n",
       "149    150     원희룡, '윤심' 묻자 \"출마 별개\"…나경원·윤상현 이미 '용산행'\n",
       "\n",
       "[150 rows x 2 columns]"
      ]
     },
     "execution_count": 111,
     "metadata": {},
     "output_type": "execute_result"
    }
   ],
   "source": [
    "import requests as rq\n",
    "from bs4 import BeautifulSoup\n",
    "import pandas as pd\n",
    "\n",
    "headers = {\n",
    "    \"User-Agent\": \"Mozilla/5.0 (Windows NT 10.0; Win64; x64) AppleWebKit/537.36 (KHTML, like Gecko) Chrome/91.0.4472.124 Safari/537.36\"\n",
    "}\n",
    "\n",
    "base_url = f'https://news.daum.net/breakingnews/politics?page='\n",
    "\n",
    "# 빈 리스트를 만들어 기사를 저장할 준비를 합니다\n",
    "all_articles = []\n",
    "\n",
    "# 여러 페이지를 순회하며 기사 제목을 추출\n",
    "for page_num in range(1, 11):\n",
    "    url = f'{base_url}{page_num}'\n",
    "    r = rq.get(url, headers=headers)\n",
    "    html = r.text\n",
    "    soup = BeautifulSoup(html, 'html.parser')\n",
    "\n",
    "    # 기사 제목 추출\n",
    "    lines = soup.find_all('a', class_=\"link_txt\")\n",
    "    lines = lines[7:-21]\n",
    "    articles = [line.text.strip() for line in lines]\n",
    "\n",
    "    # 추출한 기사 제목을 전체 기사 리스트에 추가\n",
    "    all_articles.extend(articles)\n",
    "\n",
    "# 인덱스 생성\n",
    "indices = range(1, len(all_articles) + 1)\n",
    "\n",
    "# 데이터프레임 생성\n",
    "df = pd.DataFrame({'Index': indices, 'Article': all_articles})\n",
    "\n",
    "df.to_csv('daum_politics_articles.csv', index=False)\n",
    "df = pd.read_csv('daum_politics_articles.csv')\n",
    "df\n"
   ]
  },
  {
   "cell_type": "code",
   "execution_count": 119,
   "metadata": {},
   "outputs": [
    {
     "name": "stdout",
     "output_type": "stream",
     "text": [
      "https://startcoding.pythonanywhere.com/basic?page=1&keyword=\n",
      "10\n",
      "10\n",
      "10\n",
      "Page : 1\n",
      "https://startcoding.pythonanywhere.com/basic?page=2&keyword=\n",
      "20\n",
      "20\n",
      "20\n",
      "Page : 2\n",
      "https://startcoding.pythonanywhere.com/basic?page=3&keyword=\n",
      "30\n",
      "30\n",
      "30\n",
      "Page : 3\n",
      "https://startcoding.pythonanywhere.com/basic?page=4&keyword=\n",
      "35\n",
      "35\n",
      "35\n",
      "Page : 4\n"
     ]
    }
   ],
   "source": [
    "# 실습 과제 : Electro 사이트를 크롤링해서 category, name,   link, price 4개 컬럼으로 구성되는 데이터프레임을 출력하세요.\n",
    "\n",
    "import requests\n",
    "from bs4 import BeautifulSoup \n",
    "import pandas as pd\n",
    "\n",
    "# url = 'https://startcoding.pythonanywhere.com/basic'\n",
    "\n",
    "headers = {\n",
    "    \"User-Agent\": \"Mozilla/5.0 (Windows NT 10.0; Win64; x64) AppleWebKit/537.36 (KHTML, like Gecko) Chrome/91.0.4472.124 Safari/537.36\"\n",
    "}\n",
    "\n",
    "data = []\n",
    "\n",
    "for p in range(1, 5):\n",
    "    url = f'https://startcoding.pythonanywhere.com/basic?page={p}&keyword='\n",
    "    response = requests.get(url, headers=headers)\n",
    "    soup = BeautifulSoup(response.text, 'html.parser')\n",
    "    print(url)\n",
    "\n",
    "    if response.status_code == 200:\n",
    "        # 카테고리\n",
    "        categories = soup.find_all(class_='product-category')\n",
    "        categories_texts.extend([category.get_text() for category in categories])\n",
    " \n",
    "        # 상품명\n",
    "        names = soup.find_all(class_='product-name')\n",
    "        name_texts.extend([name.get_text() for name in names])\n",
    "\n",
    "        # 상품링크\n",
    "        links = soup.find_all('.product-name > a').attrs['hred']\n",
    "        link_.extend([a.get('href') for a in links])\n",
    "        # 가격\n",
    "        prices = soup.find_all(class_='product-price')\n",
    "        for price in prices:\n",
    "            old_prices = price.find('del', class_='product-old-price')\n",
    "            if old_prices:\n",
    "                old_prices.decompose()  # old_price 요소 삭제\n",
    "            price_texts.append(price.get_text().strip())\n",
    "\n",
    "        # 페이지\n",
    "        page.extend([p] * len(categories))\n",
    "\n",
    "    print(f'Page : {p}')\n",
    "\n",
    "data = {\n",
    "    'Page' : page,\n",
    "    'Category': categories_texts,\n",
    "    'Name': name_texts,\n",
    "    # 'Link': link_,\n",
    "    'Price': price_texts\n",
    "}\n",
    "\n",
    "\n",
    "df = pd.DataFrame(data)\n",
    "df\n",
    "\n",
    "df.to_csv('product_info.csv', index=False, encoding='utf-8-sig')"
   ]
  },
  {
   "cell_type": "code",
   "execution_count": null,
   "metadata": {},
   "outputs": [],
   "source": [
    "df.to_csv('product_info.csv', index=False, encoding='utf-8-sig')"
   ]
  },
  {
   "cell_type": "code",
   "execution_count": null,
   "metadata": {},
   "outputs": [],
   "source": [
    "soup.select_one('.product-price').text"
   ]
  },
  {
   "cell_type": "code",
   "execution_count": null,
   "metadata": {},
   "outputs": [],
   "source": [
    "soup.select_one('.product-price').text.strip()"
   ]
  },
  {
   "cell_type": "code",
   "execution_count": null,
   "metadata": {},
   "outputs": [],
   "source": [
    "soup.select_one('.product-price').text.strip().replace('원','').replace(',','')"
   ]
  },
  {
   "cell_type": "code",
   "execution_count": null,
   "metadata": {},
   "outputs": [],
   "source": [
    "soup.select_one('.product-price').text.split('원')[0].replace(',','')"
   ]
  },
  {
   "cell_type": "code",
   "execution_count": null,
   "metadata": {},
   "outputs": [],
   "source": [
    "items = soup.select('.product')\n",
    "for item in items:\n",
    "    category = item.select_one('.product-category').text.strip()\n",
    "    name = item.select_one('.product-name').text.strip()\n",
    "    link = item.select_one('.product-name > a').attrs['href']\n",
    "    price = item.select_one('.product-price').text.split('원')[0].replace(',','')\n",
    "    print(category, name, link, price)"
   ]
  },
  {
   "cell_type": "code",
   "execution_count": null,
   "metadata": {},
   "outputs": [],
   "source": [
    "headers = {\n",
    "    \"User-Agent\": \"Mozilla/5.0 (Windows NT 10.0; Win64; x64) AppleWebKit/537.36 (KHTML, like Gecko) Chrome/91.0.4472.124 Safari/537.36\"\n",
    "}\n",
    "\n",
    "data = []\n",
    "for i in range(1,5):\n",
    "    response = requests.get(url, headers=headers)\n",
    "    soup = BeautifulSoup(response.text, 'html.parser')\n",
    "    items = soup.select('.product')\n",
    "\n",
    "    for item in items:\n",
    "        category = item.select_one('.product-category').text.strip()\n",
    "        name = item.select_one('.product-name').text.strip()\n",
    "        link = item.select_one('.product-name > a').attrs['href']\n",
    "        price = item.select_one('.product-price').text.split('원')[0].replace(',','')\n",
    "        print(category, name, link, price)\n",
    "        data.append([category,name,link,price])"
   ]
  },
  {
   "cell_type": "code",
   "execution_count": null,
   "metadata": {},
   "outputs": [],
   "source": [
    "df = pd.DataFrame(data, columns=['Category','Name','Link','Price'])\n",
    "df"
   ]
  },
  {
   "cell_type": "code",
   "execution_count": null,
   "metadata": {},
   "outputs": [],
   "source": [
    "# utf-8-sig는 UTF-8 인코딩에 BOM(byte order makr)을 추가하는 옵션\n",
    "df.to_csv('result.csv',encoding='utf-8-sig', index = False)"
   ]
  },
  {
   "cell_type": "code",
   "execution_count": null,
   "metadata": {},
   "outputs": [],
   "source": [
    "df=pd.read_csv('result.csv')\n",
    "df.head()"
   ]
  },
  {
   "cell_type": "markdown",
   "metadata": {},
   "source": [
    "Task1_0621. https://www.google.com 사이트에서 셀레니움을 이용해서 다음을 수행하세요.\n",
    "- xpath 속성을 사용하여 접근하여 요소를 추출\n",
    "- 앵커태그(a 태그)에 사용되는 텍스트로 접근하여 요소를 추출\n",
    "- 앵커태그(a 태그)에 사용되는 일부 텍스트로 접근하여 요소를 추출\n",
    "- 태그를 사용하여 접근하여 요소를 추출\n",
    "- CSS 선택자를 사용하여 접근하여 요소를 추출"
   ]
  },
  {
   "cell_type": "code",
   "execution_count": 103,
   "metadata": {},
   "outputs": [],
   "source": [
    "import selenium \n",
    "from selenium import webdriver\n",
    "from selenium.webdriver.common.keys import Keys\n",
    "from selenium.webdriver.common.by import By\n",
    "import time\n",
    "from selenium.webdriver.chrome.options import Options\n",
    "\n",
    "options = Options()\n",
    "options.add_argument('--start-maximized')\n",
    "options.add_experimental_option('detach', True)\n",
    "\n",
    "driver = webdriver.Chrome(options=options)\n",
    "\n",
    "driver.get('https://www.google.com')"
   ]
  },
  {
   "cell_type": "code",
   "execution_count": 104,
   "metadata": {},
   "outputs": [
    {
     "name": "stdout",
     "output_type": "stream",
     "text": [
      "Element found by Xpath :  로그인\n"
     ]
    }
   ],
   "source": [
    "# Q1. xpath 속성을 사용하여 접근하여 요소를 추출.\n",
    "try:\n",
    "    element_by_xpath = driver.find_element(By.XPATH, '//*[@id=\"gb\"]/div/div[2]/a')\n",
    "    print('Element found by Xpath : ', element_by_xpath.get_attribute('aria-label'))\n",
    "except:\n",
    "    print('element not found by Xpath')"
   ]
  },
  {
   "cell_type": "code",
   "execution_count": 105,
   "metadata": {},
   "outputs": [
    {
     "name": "stdout",
     "output_type": "stream",
     "text": [
      "element found By link_text: https://store.google.com/KR?utm_source=hp_header&utm_medium=google_ooo&utm_campaign=GS100042&hl=ko-KR\n"
     ]
    }
   ],
   "source": [
    "# Q2. 앵커태그(a 태그)에 사용되는 텍스트로 접근하여 요소를 추출\n",
    "try:\n",
    "    element_by_link_text = driver.find_element(By.LINK_TEXT, '스토어')\n",
    "    print('element found By link_text:', element_by_link_text.get_attribute('href'))\n",
    "except:\n",
    "    print('element not found by link_text')"
   ]
  },
  {
   "cell_type": "code",
   "execution_count": 106,
   "metadata": {},
   "outputs": [
    {
     "name": "stdout",
     "output_type": "stream",
     "text": [
      "element found By link_text: https://www.google.com/imghp?hl=ko&ogbl\n"
     ]
    }
   ],
   "source": [
    "# Q3. 앵커태그(a 태그)에 사용되는 일부 텍스트로 접근하여 요소를 추출\n",
    "try:\n",
    "    element_by_link_text = driver.find_element(By.PARTIAL_LINK_TEXT, '이미')\n",
    "    print('element found By link_text:', element_by_link_text.get_attribute('href'))\n",
    "except:\n",
    "    print('element not found by link_text')"
   ]
  },
  {
   "cell_type": "code",
   "execution_count": 107,
   "metadata": {},
   "outputs": [
    {
     "name": "stdout",
     "output_type": "stream",
     "text": [
      "element found By tag name : None\n"
     ]
    }
   ],
   "source": [
    "# Q4. 태그를 사용하여 접근하여 요소를 추출\n",
    "try:\n",
    "    element_by_tag_name = driver.find_element(By.TAG_NAME, 'a')\n",
    "    print('element found By tag name :', element_by_tag_name.get_attribute('aria-label'))\n",
    "except:\n",
    "    print('element not found by tag name')"
   ]
  },
  {
   "cell_type": "code",
   "execution_count": 109,
   "metadata": {},
   "outputs": [
    {
     "name": "stdout",
     "output_type": "stream",
     "text": [
      "element found By css : Gmail \n"
     ]
    }
   ],
   "source": [
    "# Q5. CSS 선택자를 사용하여 접근하여 요소를 추출\n",
    "try:\n",
    "    element_by_css_selector = driver.find_element(By.CSS_SELECTOR, '#gb > div > div:nth-child(1) > div > div:nth-child(1) > a')\n",
    "    print('element found By css :', element_by_css_selector.get_attribute('aria-label'))\n",
    "except:\n",
    "    print('element not found by css')"
   ]
  },
  {
   "cell_type": "code",
   "execution_count": 136,
   "metadata": {},
   "outputs": [
    {
     "name": "stdout",
     "output_type": "stream",
     "text": [
      "2,000\n"
     ]
    }
   ],
   "source": [
    "from selenium.webdriver.common.keys import Keys\n",
    "from selenium.webdriver.support.ui import WebDriverWait\n",
    "from selenium.webdriver.support import expected_conditions as EC\n",
    "\n",
    "# Task2_0621. 한빛 네트워크 사이트 https://www.hanbit.co.kr/ 로그인 후 마일리지 점수 가져와서 출력하세요.\n",
    "# element.click()\n",
    "# driver.find_element(By.ID,'m_id')\n",
    "# send_keys(m_pw)\n",
    "\n",
    "options = Options()\n",
    "options.add_argument('--start-maximized')\n",
    "options.add_experimental_option('detach', True)\n",
    "\n",
    "driver = webdriver.Chrome(options=options)\n",
    "\n",
    "driver.get('https://www.hanbit.co.kr/')\n",
    "\n",
    "element = driver.find_element(By.LINK_TEXT, '로그인')\n",
    "element.click()\n",
    "time.sleep(2)\n",
    "\n",
    "driver.find_element(By.ID, 'm_id').send_keys('wjsghk1267')\n",
    "driver.find_element(By.ID, 'm_passwd').send_keys('dkssudgktpdy12') \n",
    "time.sleep(3)\n",
    "\n",
    "click_login = driver.find_element(By.ID, 'login_btn').click()\n",
    "time.sleep(3)\n",
    "\n",
    "driver.find_element(By.CSS_SELECTOR, '#wrap_nav > ul.top_menu > li.top_dropdown > a').click()\n",
    "time.sleep(3)\n",
    "\n",
    "mileage = driver.find_element(By.CSS_SELECTOR, '#container > div > div.sm_mymileage > dl.mileage_section1 > dd > span')\n",
    "print(mileage.text.strip())\n"
   ]
  },
  {
   "cell_type": "code",
   "execution_count": null,
   "metadata": {},
   "outputs": [],
   "source": [
    "# Task3_0621. 네이버 로그인한 후 않읽은 메일의 개수를 가져와서 출력하세요.\n",
    "\n"
   ]
  }
 ],
 "metadata": {
  "kernelspec": {
   "display_name": "myenv",
   "language": "python",
   "name": "python3"
  },
  "language_info": {
   "codemirror_mode": {
    "name": "ipython",
    "version": 3
   },
   "file_extension": ".py",
   "mimetype": "text/x-python",
   "name": "python",
   "nbconvert_exporter": "python",
   "pygments_lexer": "ipython3",
   "version": "3.11.7"
  }
 },
 "nbformat": 4,
 "nbformat_minor": 2
}
