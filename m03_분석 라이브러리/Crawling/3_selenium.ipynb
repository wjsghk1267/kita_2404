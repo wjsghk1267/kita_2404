{
 "cells": [
  {
   "cell_type": "markdown",
   "metadata": {},
   "source": [
    "#### 셀레니움 함수\n",
    "\n",
    "- https://goodthings4me.tistory.com/696\n",
    "\n",
    "- from selenium.webdriver.common.by import By\n",
    "\n",
    "- find_element(By.ID, \" \"): id 속성을 사용하여 접근\n",
    "- find_element(s)(By.CLASS_NAME, \" \"): 클래스를 사용하여 접근\n",
    "- find_element(s)(By.NAME, \" \"): name 속성을 사용하여 접근\n",
    "- find_element(s)(By.XPATH, \" \"): xpath 속성을 사용하여 접근\n",
    "- find_element(s)(By.LINK_TEXT, \" \"): 앵커태그(a 태그)에 사용되는 텍스트로 접근\n",
    "- find_element(s)(By.PARTIAL_LINK_TEXT, \" \"): 앵커태그(a 태그)에 사용되는 일부 텍스트로 접근\n",
    "- find_element(s)(By.TAG_NAME, \" \"): 태그를 사용하여 접근\n",
    "- find_element(s)(By.CSS_SELECTOR, \" \"): CSS 선택자를 사용하여 접근<br><br>\n",
    "셀레니움 사용법 : https://greeksharifa.github.io/references/2020/10/30/python-selenium-usage/ "
   ]
  },
  {
   "cell_type": "code",
   "execution_count": 4,
   "metadata": {},
   "outputs": [],
   "source": [
    "import selenium \n",
    "from selenium import webdriver\n",
    "from selenium.webdriver.common.keys import Keys\n",
    "from selenium.webdriver.common.by import By\n",
    "import time\n",
    "\n",
    "driver = webdriver.Chrome()\n",
    "url = 'https://naver.com'\n",
    "driver.get(url)\n",
    "time.sleep(1)"
   ]
  },
  {
   "cell_type": "code",
   "execution_count": 5,
   "metadata": {},
   "outputs": [
    {
     "name": "stdout",
     "output_type": "stream",
     "text": [
      "https://www.naver.com/\n"
     ]
    }
   ],
   "source": [
    "print(driver.current_url)\n",
    "driver.close()"
   ]
  },
  {
   "cell_type": "code",
   "execution_count": 6,
   "metadata": {},
   "outputs": [
    {
     "name": "stdout",
     "output_type": "stream",
     "text": [
      "https://www.google.com/?gws_rd=ssl\n"
     ]
    }
   ],
   "source": [
    "# 브라우저 창을 안띄우고 수행\n",
    "options = webdriver.ChromeOptions()\n",
    "\n",
    "options.add_argument('headless')\n",
    "driver = webdriver.Chrome(options=options)\n",
    "driver.get('http://google.com')\n",
    "print(driver.current_url)\n",
    "driver.close()"
   ]
  },
  {
   "cell_type": "code",
   "execution_count": 15,
   "metadata": {},
   "outputs": [
    {
     "name": "stdout",
     "output_type": "stream",
     "text": [
      "element found: 검색\n"
     ]
    }
   ],
   "source": [
    "# Implicit Wait (암묵적 대기) : 찾으려는 element가 로드될 때까지 지정한 시간만큼 대기할 수 있도록 설정\n",
    "# By 클래스는 Selenium에서 HTML 요소를 찾기 위한 다양한 방법 제공\n",
    "# WebDriverWait : 클래스는 특정 조건이 충족될 때까지 대기하는 기능\n",
    "#expected_conditions 모듈은 여거 가지 조건을 미리 정의하여 특정 요소가 나타나거나 특정 상태가 될 떄까지 기다릴 수 있도록 함\n",
    "\n",
    "from selenium.webdriver.common.by import By\n",
    "from selenium.webdriver.support.ui import WebDriverWait\n",
    "from selenium.webdriver.support import expected_conditions as EC\n",
    "\n",
    "driver = webdriver.Chrome()\n",
    "driver.get(url='https://www.google.com/')\n",
    "\n",
    "try :\n",
    "    element = WebDriverWait(driver, 5).until(\n",
    "        EC.presence_of_element_located((By.CLASS_NAME, 'gLFyf'))\n",
    "    )\n",
    "    #요소가 존재하면 텍스트 출력 (이 경우에는 입력창이므로 text가 없을 수 있음)\n",
    "    print('element found:', element.get_attribute('title'))\n",
    "    time.sleep(3)\n",
    "except Exception as e:\n",
    "    print('An Error occurred:',e)\n",
    "# finally:\n",
    "    # driver.quit()"
   ]
  },
  {
   "cell_type": "markdown",
   "metadata": {},
   "source": [
    "- driver.close(): 현재 활성화된 탭이나 창을 닫습니다. 브라우저 세션은 계속 유지\n",
    "- driver.quit(): 모든 열려 있는 탭과 창을 닫고, 브라우저 세션을 종료합니다. WebDriver 인스턴스가 완전히 종료"
   ]
  },
  {
   "cell_type": "code",
   "execution_count": 30,
   "metadata": {},
   "outputs": [],
   "source": [
    "from selenium.webdriver.chrome.options import Options\n",
    "# Chorme 옵션 설정\n",
    "options = Options()\n",
    "options.add_argument('--start-maximized') # 브라우저를 최대화된 상태로 시작하게 설정\n",
    "options.add_experimental_option('detach', True) # 스크립트가 종료된 후에도 브라우저가 닫히지 않게 설정\n",
    "\n",
    "# WebDriver 실행\n",
    "driver = webdriver.Chrome(options=options)\n",
    "\n",
    "# 구글 웹사이트 열기\n",
    "driver.get('https://www.google.com')"
   ]
  },
  {
   "cell_type": "code",
   "execution_count": 27,
   "metadata": {},
   "outputs": [
    {
     "data": {
      "text/plain": [
       "'\\n<textarea class=\"gLFyf\" aria-controls=\"Alh6id\" aria-owns=\"Alh6id\" autofocus=\"\" title=\"검색\" value=\"\" jsaction=\"paste:puy29d;\" aria-label=\"검색\" \\naria-autocomplete=\"both\" aria-expanded=\"false\" aria-haspopup=\"false\" autocapitalize=\"off\" autocomplete=\"off\" autocorrect=\"off\" id=\"APjFqb\" \\nmaxlength=\"2048\" name=\"q\" role=\"combobox\" rows=\"1\" spellcheck=\"false\" data-ved=\"0ahUKEwiTqeqlquWGAxVSh68BHeVpBlkQ39UDCAY\"></textarea>\\n'"
      ]
     },
     "execution_count": 27,
     "metadata": {},
     "output_type": "execute_result"
    }
   ],
   "source": [
    "\"\"\"\n",
    "<textarea class=\"gLFyf\" aria-controls=\"Alh6id\" aria-owns=\"Alh6id\" autofocus=\"\" title=\"검색\" value=\"\" jsaction=\"paste:puy29d;\" aria-label=\"검색\" \n",
    "aria-autocomplete=\"both\" aria-expanded=\"false\" aria-haspopup=\"false\" autocapitalize=\"off\" autocomplete=\"off\" autocorrect=\"off\" id=\"APjFqb\" \n",
    "maxlength=\"2048\" name=\"q\" role=\"combobox\" rows=\"1\" spellcheck=\"false\" data-ved=\"0ahUKEwiTqeqlquWGAxVSh68BHeVpBlkQ39UDCAY\"></textarea>\n",
    "\"\"\""
   ]
  },
  {
   "cell_type": "code",
   "execution_count": 31,
   "metadata": {},
   "outputs": [
    {
     "name": "stdout",
     "output_type": "stream",
     "text": [
      "Element found by ID :  q\n"
     ]
    }
   ],
   "source": [
    "# 1. find_element(Byy, ID, 'id_name): id 속성을 사용하여 접근\n",
    "try:\n",
    "    element_by_id = driver.find_element(By.ID, 'APjFqb') # id가 APjFqb에서 \n",
    "    print('Element found by ID : ', element_by_id.get_attribute('name')) # 속성 name 값을 가져옴. \n",
    "except:\n",
    "    print('element not found by ID')"
   ]
  },
  {
   "cell_type": "code",
   "execution_count": 33,
   "metadata": {},
   "outputs": [
    {
     "name": "stdout",
     "output_type": "stream",
     "text": [
      "element found By CLASS_NAME: 검색\n"
     ]
    }
   ],
   "source": [
    "#2. find_element(By.CLASS_NAME, 'class_name'): 클래스를 사용하여 접근\n",
    "try:\n",
    "    element_by_class_name = driver.find_element(By.CLASS_NAME, 'gLFyf')\n",
    "    print('element found By CLASS_NAME:', element_by_class_name.get_attribute('title')) # 클래스 gLFyf 에서  title 속성값을 가져옴.\n",
    "except:\n",
    "    print('element not found by CLASS_NAME')"
   ]
  },
  {
   "cell_type": "code",
   "execution_count": null,
   "metadata": {},
   "outputs": [],
   "source": []
  }
 ],
 "metadata": {
  "kernelspec": {
   "display_name": "myenv",
   "language": "python",
   "name": "python3"
  },
  "language_info": {
   "codemirror_mode": {
    "name": "ipython",
    "version": 3
   },
   "file_extension": ".py",
   "mimetype": "text/x-python",
   "name": "python",
   "nbconvert_exporter": "python",
   "pygments_lexer": "ipython3",
   "version": "3.11.7"
  }
 },
 "nbformat": 4,
 "nbformat_minor": 2
}
