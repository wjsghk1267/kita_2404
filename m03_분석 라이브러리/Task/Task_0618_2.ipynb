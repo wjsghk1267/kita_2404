{
 "cells": [
  {
   "cell_type": "code",
   "execution_count": null,
   "metadata": {},
   "outputs": [],
   "source": [
    "from bs4 import BeautifulSoup\n",
    "\n",
    "html_doc = \"\"\"\n",
    "<html><head><title>The Dormouse's story</title></head>\n",
    "<body>\n",
    "<p class=\"title\"><b>The Dormouse's story</b></p>\n",
    "<a href=\"http://example.com/elsie\" class=\"sister\" id=\"link1\">Elsie</a>\n",
    "<a href=\"http://example.com/lacie\" class=\"sister\" id=\"link2\">Lacie</a>\n",
    "<a href=\"http://example.com/tillie\" class=\"sister\" id=\"link3\">Tillie</a>\n",
    "</body></html>\n",
    "\"\"\""
   ]
  },
  {
   "cell_type": "code",
   "execution_count": null,
   "metadata": {},
   "outputs": [],
   "source": [
    "# Task6_0618. 주어진 HTML 문서에서 모든 $<a>$ 태그를 추출하세요.\n",
    "soup = BeautifulSoup(html_doc, 'html.parser')\n",
    "soup.find_all('a')\n",
    "\n",
    "links = soup.find_all('a')\n",
    "for link in links:\n",
    "    print(link.text)"
   ]
  },
  {
   "cell_type": "code",
   "execution_count": null,
   "metadata": {},
   "outputs": [],
   "source": [
    "# Task7_0618. 주어진 HTML 문서에서 첫 번째 $<p>$ 태그의 텍스트를 추출하세요.\n",
    "soup.find_all('p')\n",
    "\n",
    "tag = soup.find('p')\n",
    "print(tag.text)\n",
    "\n",
    "# teach\n",
    "p_tag = soup.find('p')\n",
    "print(p_tag.get_text())"
   ]
  },
  {
   "cell_type": "code",
   "execution_count": null,
   "metadata": {},
   "outputs": [],
   "source": [
    "# Task8_0618. 주어진 HTML 문서에서 모든 링크의 URL을 추출하세요.\n",
    "links = soup.find_all('a')\n",
    "for link in links:\n",
    "    print(link.get('href'))\n",
    "\n",
    "\n",
    "# teach\n",
    "a_tags = soup.select('.sister')\n",
    "for tag in a_tags:\n",
    "    print(tag['href'])"
   ]
  },
  {
   "cell_type": "code",
   "execution_count": null,
   "metadata": {},
   "outputs": [],
   "source": [
    "# Task9_0618. 주어진 HTML 문서에서 클래스가 sister인 모든 태그를 추출하세요.\n",
    "tags = soup.find_all(class_=\"sister\")\n",
    "\n",
    "for tag in tags:\n",
    "    print(tag.text)"
   ]
  },
  {
   "cell_type": "code",
   "execution_count": null,
   "metadata": {},
   "outputs": [],
   "source": [
    "# Task10_0618. 주어진 HTML 문서에서 ID가 link1인 태그를 추출하세요\n",
    "tag = soup.find(id=\"link1\")\n",
    "print(tag.text)\n",
    "\n",
    "\n",
    "# 2\n",
    "link1_tag =soup.select_one('#link1')\n",
    "print(link1_tag)"
   ]
  },
  {
   "cell_type": "code",
   "execution_count": null,
   "metadata": {},
   "outputs": [],
   "source": [
    "# Task11_0618. 주어진 HTML 문서에서 모든 텍스트를 추출하세요.\n",
    "\n",
    "texts = soup.find_all(True)\n",
    "text_li = []\n",
    "\n",
    "for text in texts:\n",
    "    if text.text.strip():\n",
    "        text_li.append(text.text.strip())\n",
    "\n",
    "for a in text_li:\n",
    "    print(a)"
   ]
  },
  {
   "cell_type": "code",
   "execution_count": null,
   "metadata": {},
   "outputs": [],
   "source": [
    "# teach\n",
    "all_text = soup.get_text()\n",
    "print(all_text)"
   ]
  },
  {
   "cell_type": "code",
   "execution_count": null,
   "metadata": {},
   "outputs": [],
   "source": [
    "# Task12_0618. 주어진 HTML 문서에서 href 속성이 http://example.com/lacie인 태그를 추출하세요.\n",
    "\n",
    "tag = soup.find('a', href = 'http://example.com/lacie')\n",
    "print(tag.text)"
   ]
  },
  {
   "cell_type": "code",
   "execution_count": null,
   "metadata": {},
   "outputs": [],
   "source": [
    "# Task13_0618. 주어진 HTML 문서에서 ID가 link1인 태그의 부모 태그를 추출하세요.\n",
    "tag = soup.find(id='link1')\n",
    "print(tag.parent.text)"
   ]
  },
  {
   "cell_type": "code",
   "execution_count": null,
   "metadata": {},
   "outputs": [],
   "source": [
    "link_tag = soup.select_one('#link1')\n",
    "print(link_tag.find_parent())"
   ]
  },
  {
   "cell_type": "code",
   "execution_count": null,
   "metadata": {},
   "outputs": [],
   "source": [
    "# Task14_0618. 주어진 HTML 문서에서 ID가 link1인 태그의 다음 형제 태그를 추출하세요.\n",
    "tag = soup.find(id='link1')\n",
    "print(tag.find_next_siblings())"
   ]
  },
  {
   "cell_type": "code",
   "execution_count": null,
   "metadata": {},
   "outputs": [],
   "source": [
    "# 이전 형제 태그\n",
    "tag = soup.find(id='link1')\n",
    "print(tag.find_previous_siblings())"
   ]
  },
  {
   "cell_type": "code",
   "execution_count": null,
   "metadata": {},
   "outputs": [],
   "source": [
    "# 부모 태그 확인\n",
    "p_tag = soup.find('p')\n",
    "a_tag = soup.find('a')\n",
    "\n",
    "parent_p = p_tag.parent.name\n",
    "parent_a = a_tag.parent.name\n",
    "\n",
    "siblings = p_tag.find_next_sibling() == a_tag\n",
    "print(f'p 부모태그: {parent_p}')\n",
    "print(f'a 부모태그: {parent_a}')\n",
    "print(f\"p태그와 a태그는 형제인가? {'예' if siblings else '아니오'}\")"
   ]
  },
  {
   "cell_type": "code",
   "execution_count": null,
   "metadata": {},
   "outputs": [],
   "source": [
    "# 자식 태그 확인\n",
    "p_tag = soup.find('p', class_='title')\n",
    "p_tagchildren = p_tag.findChildren()\n",
    "print(p_tagchildren)\n",
    "\n",
    "for child in p_tagchildren:\n",
    "    print(child)"
   ]
  },
  {
   "cell_type": "code",
   "execution_count": null,
   "metadata": {},
   "outputs": [],
   "source": [
    "# 주어진 HTML 문서에서 <p> 태그의 모든 자식 태그를 추출\n",
    "p_tag = soup.select_one('p')\n",
    "children = p_tag.findChildren()\n",
    "for child in children:\n",
    "    print(child)"
   ]
  },
  {
   "cell_type": "code",
   "execution_count": null,
   "metadata": {},
   "outputs": [],
   "source": [
    "# Task15_0618. 주어진 HTML 문서에서 ID가 link1인 태그의 href 속성 값을 추출하세요.\n",
    "tag = soup.find(id='link1')\n",
    "print(tag.get('href'))\n",
    "\n",
    "print(tag['href'])"
   ]
  }
 ],
 "metadata": {
  "language_info": {
   "name": "python"
  }
 },
 "nbformat": 4,
 "nbformat_minor": 2
}
